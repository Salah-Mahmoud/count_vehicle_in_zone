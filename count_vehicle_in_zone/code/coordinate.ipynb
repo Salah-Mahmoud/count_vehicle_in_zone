{
 "cells": [
  {
   "cell_type": "code",
   "execution_count": 3,
   "id": "9c45e890",
   "metadata": {},
   "outputs": [],
   "source": [
    "import cv2\n",
    "import os"
   ]
  },
  {
   "cell_type": "code",
   "execution_count": 15,
   "id": "b4af5e52",
   "metadata": {},
   "outputs": [
    {
     "name": "stdout",
     "output_type": "stream",
     "text": [
      "Coordinates (x, y): (322, 591)\n",
      "Coordinates (x, y): (380, 554)\n",
      "Coordinates (x, y): (445, 488)\n",
      "Coordinates (x, y): (491, 420)\n",
      "Coordinates (x, y): (523, 369)\n",
      "Coordinates (x, y): (518, 312)\n",
      "Coordinates (x, y): (493, 263)\n",
      "Coordinates (x, y): (463, 237)\n",
      "Coordinates (x, y): (413, 206)\n",
      "Coordinates (x, y): (370, 186)\n",
      "Coordinates (x, y): (292, 155)\n",
      "Coordinates (x, y): (229, 134)\n",
      "Coordinates (x, y): (166, 111)\n",
      "Coordinates (x, y): (67, 84)\n",
      "Coordinates (x, y): (80, 66)\n",
      "Coordinates (x, y): (169, 93)\n",
      "Coordinates (x, y): (377, 143)\n",
      "Coordinates (x, y): (556, 188)\n",
      "Coordinates (x, y): (730, 240)\n",
      "Coordinates (x, y): (791, 264)\n",
      "Coordinates (x, y): (794, 374)\n",
      "Coordinates (x, y): (718, 312)\n",
      "Coordinates (x, y): (673, 275)\n",
      "Coordinates (x, y): (550, 215)\n",
      "Coordinates (x, y): (592, 252)\n",
      "Coordinates (x, y): (638, 297)\n",
      "Coordinates (x, y): (661, 344)\n",
      "Coordinates (x, y): (664, 398)\n",
      "Coordinates (x, y): (643, 449)\n",
      "Coordinates (x, y): (605, 494)\n",
      "Coordinates (x, y): (548, 560)\n",
      "Coordinates (x, y): (506, 597)\n",
      "List of coordinates: [(322, 591), (380, 554), (445, 488), (491, 420), (523, 369), (518, 312), (493, 263), (463, 237), (413, 206), (370, 186), (292, 155), (229, 134), (166, 111), (67, 84), (80, 66), (169, 93), (377, 143), (556, 188), (730, 240), (791, 264), (794, 374), (718, 312), (673, 275), (550, 215), (592, 252), (638, 297), (661, 344), (664, 398), (643, 449), (605, 494), (548, 560), (506, 597)]\n"
     ]
    }
   ],
   "source": [
    "# Global list to store coordinates\n",
    "coordinates = []\n",
    "\n",
    "# Function to display the coordinates\n",
    "def click_event(event, x, y, flags, params):\n",
    "    global coordinates\n",
    "    if event == cv2.EVENT_LBUTTONDOWN:  # Left mouse button click\n",
    "        print(f'Coordinates (x, y): ({x}, {y})')\n",
    "\n",
    "        # Displaying the coordinates on the image window\n",
    "        font = cv2.FONT_HERSHEY_SIMPLEX\n",
    "        cv2.putText(img, f'{x}, {y}', (x, y), font, 1, (255, 0, 0), 2)\n",
    "        cv2.imshow('image', img)\n",
    "\n",
    "        # Append the coordinates to the list\n",
    "        coordinates.append((x, y))\n",
    "\n",
    "    elif event == cv2.EVENT_RBUTTONDOWN:  # Right mouse button click\n",
    "        print(f'Coordinates (x, y): ({x}, {y})')\n",
    "\n",
    "        # Displaying the pixel color values at the clicked point\n",
    "        font = cv2.FONT_HERSHEY_SIMPLEX\n",
    "        b, g, r = img[y, x]\n",
    "        cv2.putText(img, f'BGR: ({b}, {g}, {r})', (x, y), font, 1, (255, 255, 0), 2)\n",
    "        cv2.imshow('image', img)\n",
    "\n",
    "\n",
    "# Driver function\n",
    "if __name__ == \"__main__\":\n",
    "    # Read the image\n",
    "    img = cv2.imread('first_frame.png', 1)\n",
    "    # Define the new size (width, height)\n",
    "    new_width = 800\n",
    "    new_height = 600\n",
    "    \n",
    "    # Resize the image\n",
    "    img = cv2.resize(img, (new_width, new_height))\n",
    "    \n",
    "    # Display the image\n",
    "    cv2.imshow('image', img)\n",
    "\n",
    "    # Set mouse handler for the image and call the click_event() function\n",
    "    cv2.setMouseCallback('image', click_event)\n",
    "\n",
    "    # Wait for a key to be pressed to exit\n",
    "    cv2.waitKey(0)\n",
    "\n",
    "    # Close the window\n",
    "    cv2.destroyAllWindows()\n",
    "\n",
    "    # Print the list of coordinates after all clicks\n",
    "    print(\"List of coordinates:\", coordinates)\n",
    "    cv2.VideoWriter('output.avi', -1, 20.0, (640,480))\n"
   ]
  },
  {
   "cell_type": "code",
   "execution_count": null,
   "id": "63db78d5",
   "metadata": {},
   "outputs": [],
   "source": [
    "#(285, 599), (413, 467), (498, 323), (458, 254), (344, 179), (203, 128), (32, 82), (21, 106), (147, 161), (225, 208), (303, 262), (309, 360), (287, 398), (213, 455), (78, 592)\n",
    "\n",
    "#(290, 599), (456, 451), (497, 323), (462, 256), (378, 200), (237, 137), (47, 88), (38, 53), (425, 58), (743, 128), (780, 173), (783, 236), (786, 302), (771, 359), (684, 281), (515, 202), (582, 249), (638, 293), (675, 364), (648, 451), (513, 593)\n",
    "\n"
   ]
  },
  {
   "cell_type": "code",
   "execution_count": null,
   "id": "13563a16",
   "metadata": {},
   "outputs": [],
   "source": []
  }
 ],
 "metadata": {
  "kernelspec": {
   "display_name": "Python 3 (ipykernel)",
   "language": "python",
   "name": "python3"
  },
  "language_info": {
   "codemirror_mode": {
    "name": "ipython",
    "version": 3
   },
   "file_extension": ".py",
   "mimetype": "text/x-python",
   "name": "python",
   "nbconvert_exporter": "python",
   "pygments_lexer": "ipython3",
   "version": "3.11.2"
  }
 },
 "nbformat": 4,
 "nbformat_minor": 5
}
